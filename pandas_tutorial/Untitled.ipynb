{
 "cells": [
  {
   "cell_type": "code",
   "execution_count": 1,
   "id": "26c0ce17",
   "metadata": {},
   "outputs": [],
   "source": [
    "import numpy as np\n",
    "import pandas as pd"
   ]
  },
  {
   "cell_type": "code",
   "execution_count": 2,
   "id": "5a8dab4f",
   "metadata": {},
   "outputs": [],
   "source": [
    "dict1 = {\n",
    "    \"name\":['harry', 'rohan', 'pk', ' shubh'],\n",
    "    \"marks\":[90,43,45,32],\n",
    "    \"city\":['rampur', 'kolkata','barailly', 'ghazipur']\n",
    "}\n"
   ]
  },
  {
   "cell_type": "code",
   "execution_count": 3,
   "id": "0037abfd",
   "metadata": {},
   "outputs": [],
   "source": [
    "df = pd.DataFrame(dict1)"
   ]
  },
  {
   "cell_type": "code",
   "execution_count": 4,
   "id": "dfda3383",
   "metadata": {},
   "outputs": [
    {
     "data": {
      "text/html": [
       "<div>\n",
       "<style scoped>\n",
       "    .dataframe tbody tr th:only-of-type {\n",
       "        vertical-align: middle;\n",
       "    }\n",
       "\n",
       "    .dataframe tbody tr th {\n",
       "        vertical-align: top;\n",
       "    }\n",
       "\n",
       "    .dataframe thead th {\n",
       "        text-align: right;\n",
       "    }\n",
       "</style>\n",
       "<table border=\"1\" class=\"dataframe\">\n",
       "  <thead>\n",
       "    <tr style=\"text-align: right;\">\n",
       "      <th></th>\n",
       "      <th>name</th>\n",
       "      <th>marks</th>\n",
       "      <th>city</th>\n",
       "    </tr>\n",
       "  </thead>\n",
       "  <tbody>\n",
       "    <tr>\n",
       "      <th>0</th>\n",
       "      <td>harry</td>\n",
       "      <td>90</td>\n",
       "      <td>rampur</td>\n",
       "    </tr>\n",
       "    <tr>\n",
       "      <th>1</th>\n",
       "      <td>rohan</td>\n",
       "      <td>43</td>\n",
       "      <td>kolkata</td>\n",
       "    </tr>\n",
       "    <tr>\n",
       "      <th>2</th>\n",
       "      <td>pk</td>\n",
       "      <td>45</td>\n",
       "      <td>barailly</td>\n",
       "    </tr>\n",
       "    <tr>\n",
       "      <th>3</th>\n",
       "      <td>shubh</td>\n",
       "      <td>32</td>\n",
       "      <td>ghazipur</td>\n",
       "    </tr>\n",
       "  </tbody>\n",
       "</table>\n",
       "</div>"
      ],
      "text/plain": [
       "     name  marks      city\n",
       "0   harry     90    rampur\n",
       "1   rohan     43   kolkata\n",
       "2      pk     45  barailly\n",
       "3   shubh     32  ghazipur"
      ]
     },
     "execution_count": 4,
     "metadata": {},
     "output_type": "execute_result"
    }
   ],
   "source": [
    "df"
   ]
  },
  {
   "cell_type": "code",
   "execution_count": 5,
   "id": "6d1368c3",
   "metadata": {},
   "outputs": [],
   "source": [
    "df.to_csv('friends.csv')"
   ]
  },
  {
   "cell_type": "code",
   "execution_count": 6,
   "id": "59daba75",
   "metadata": {},
   "outputs": [],
   "source": [
    "df.to_csv('friends_index_false.csv', index=False)"
   ]
  },
  {
   "cell_type": "code",
   "execution_count": 7,
   "id": "68be6a17",
   "metadata": {},
   "outputs": [
    {
     "data": {
      "text/html": [
       "<div>\n",
       "<style scoped>\n",
       "    .dataframe tbody tr th:only-of-type {\n",
       "        vertical-align: middle;\n",
       "    }\n",
       "\n",
       "    .dataframe tbody tr th {\n",
       "        vertical-align: top;\n",
       "    }\n",
       "\n",
       "    .dataframe thead th {\n",
       "        text-align: right;\n",
       "    }\n",
       "</style>\n",
       "<table border=\"1\" class=\"dataframe\">\n",
       "  <thead>\n",
       "    <tr style=\"text-align: right;\">\n",
       "      <th></th>\n",
       "      <th>name</th>\n",
       "      <th>marks</th>\n",
       "      <th>city</th>\n",
       "    </tr>\n",
       "  </thead>\n",
       "  <tbody>\n",
       "    <tr>\n",
       "      <th>0</th>\n",
       "      <td>harry</td>\n",
       "      <td>90</td>\n",
       "      <td>rampur</td>\n",
       "    </tr>\n",
       "    <tr>\n",
       "      <th>1</th>\n",
       "      <td>rohan</td>\n",
       "      <td>43</td>\n",
       "      <td>kolkata</td>\n",
       "    </tr>\n",
       "  </tbody>\n",
       "</table>\n",
       "</div>"
      ],
      "text/plain": [
       "    name  marks     city\n",
       "0  harry     90   rampur\n",
       "1  rohan     43  kolkata"
      ]
     },
     "execution_count": 7,
     "metadata": {},
     "output_type": "execute_result"
    }
   ],
   "source": [
    "df.head(2)"
   ]
  },
  {
   "cell_type": "code",
   "execution_count": 8,
   "id": "91bcd084",
   "metadata": {},
   "outputs": [
    {
     "data": {
      "text/html": [
       "<div>\n",
       "<style scoped>\n",
       "    .dataframe tbody tr th:only-of-type {\n",
       "        vertical-align: middle;\n",
       "    }\n",
       "\n",
       "    .dataframe tbody tr th {\n",
       "        vertical-align: top;\n",
       "    }\n",
       "\n",
       "    .dataframe thead th {\n",
       "        text-align: right;\n",
       "    }\n",
       "</style>\n",
       "<table border=\"1\" class=\"dataframe\">\n",
       "  <thead>\n",
       "    <tr style=\"text-align: right;\">\n",
       "      <th></th>\n",
       "      <th>name</th>\n",
       "      <th>marks</th>\n",
       "      <th>city</th>\n",
       "    </tr>\n",
       "  </thead>\n",
       "  <tbody>\n",
       "    <tr>\n",
       "      <th>2</th>\n",
       "      <td>pk</td>\n",
       "      <td>45</td>\n",
       "      <td>barailly</td>\n",
       "    </tr>\n",
       "    <tr>\n",
       "      <th>3</th>\n",
       "      <td>shubh</td>\n",
       "      <td>32</td>\n",
       "      <td>ghazipur</td>\n",
       "    </tr>\n",
       "  </tbody>\n",
       "</table>\n",
       "</div>"
      ],
      "text/plain": [
       "     name  marks      city\n",
       "2      pk     45  barailly\n",
       "3   shubh     32  ghazipur"
      ]
     },
     "execution_count": 8,
     "metadata": {},
     "output_type": "execute_result"
    }
   ],
   "source": [
    "df.tail(2)"
   ]
  },
  {
   "cell_type": "code",
   "execution_count": 9,
   "id": "32145cf5",
   "metadata": {},
   "outputs": [
    {
     "data": {
      "text/html": [
       "<div>\n",
       "<style scoped>\n",
       "    .dataframe tbody tr th:only-of-type {\n",
       "        vertical-align: middle;\n",
       "    }\n",
       "\n",
       "    .dataframe tbody tr th {\n",
       "        vertical-align: top;\n",
       "    }\n",
       "\n",
       "    .dataframe thead th {\n",
       "        text-align: right;\n",
       "    }\n",
       "</style>\n",
       "<table border=\"1\" class=\"dataframe\">\n",
       "  <thead>\n",
       "    <tr style=\"text-align: right;\">\n",
       "      <th></th>\n",
       "      <th>marks</th>\n",
       "    </tr>\n",
       "  </thead>\n",
       "  <tbody>\n",
       "    <tr>\n",
       "      <th>count</th>\n",
       "      <td>4.000000</td>\n",
       "    </tr>\n",
       "    <tr>\n",
       "      <th>mean</th>\n",
       "      <td>52.500000</td>\n",
       "    </tr>\n",
       "    <tr>\n",
       "      <th>std</th>\n",
       "      <td>25.645013</td>\n",
       "    </tr>\n",
       "    <tr>\n",
       "      <th>min</th>\n",
       "      <td>32.000000</td>\n",
       "    </tr>\n",
       "    <tr>\n",
       "      <th>25%</th>\n",
       "      <td>40.250000</td>\n",
       "    </tr>\n",
       "    <tr>\n",
       "      <th>50%</th>\n",
       "      <td>44.000000</td>\n",
       "    </tr>\n",
       "    <tr>\n",
       "      <th>75%</th>\n",
       "      <td>56.250000</td>\n",
       "    </tr>\n",
       "    <tr>\n",
       "      <th>max</th>\n",
       "      <td>90.000000</td>\n",
       "    </tr>\n",
       "  </tbody>\n",
       "</table>\n",
       "</div>"
      ],
      "text/plain": [
       "           marks\n",
       "count   4.000000\n",
       "mean   52.500000\n",
       "std    25.645013\n",
       "min    32.000000\n",
       "25%    40.250000\n",
       "50%    44.000000\n",
       "75%    56.250000\n",
       "max    90.000000"
      ]
     },
     "execution_count": 9,
     "metadata": {},
     "output_type": "execute_result"
    }
   ],
   "source": [
    "df.describe()"
   ]
  },
  {
   "cell_type": "code",
   "execution_count": 10,
   "id": "8948b521",
   "metadata": {},
   "outputs": [],
   "source": [
    "pk = pd.read_csv('pk.csv')"
   ]
  },
  {
   "cell_type": "code",
   "execution_count": 11,
   "id": "8b99440c",
   "metadata": {},
   "outputs": [
    {
     "data": {
      "text/html": [
       "<div>\n",
       "<style scoped>\n",
       "    .dataframe tbody tr th:only-of-type {\n",
       "        vertical-align: middle;\n",
       "    }\n",
       "\n",
       "    .dataframe tbody tr th {\n",
       "        vertical-align: top;\n",
       "    }\n",
       "\n",
       "    .dataframe thead th {\n",
       "        text-align: right;\n",
       "    }\n",
       "</style>\n",
       "<table border=\"1\" class=\"dataframe\">\n",
       "  <thead>\n",
       "    <tr style=\"text-align: right;\">\n",
       "      <th></th>\n",
       "      <th>name</th>\n",
       "      <th>marks</th>\n",
       "      <th>city</th>\n",
       "    </tr>\n",
       "  </thead>\n",
       "  <tbody>\n",
       "    <tr>\n",
       "      <th>0</th>\n",
       "      <td>harry</td>\n",
       "      <td>90</td>\n",
       "      <td>rampur</td>\n",
       "    </tr>\n",
       "    <tr>\n",
       "      <th>1</th>\n",
       "      <td>rohan</td>\n",
       "      <td>43</td>\n",
       "      <td>kolkata</td>\n",
       "    </tr>\n",
       "    <tr>\n",
       "      <th>2</th>\n",
       "      <td>pk</td>\n",
       "      <td>45</td>\n",
       "      <td>barailly</td>\n",
       "    </tr>\n",
       "    <tr>\n",
       "      <th>3</th>\n",
       "      <td>shubh</td>\n",
       "      <td>32</td>\n",
       "      <td>ghazipur</td>\n",
       "    </tr>\n",
       "  </tbody>\n",
       "</table>\n",
       "</div>"
      ],
      "text/plain": [
       "     name  marks      city\n",
       "0   harry     90    rampur\n",
       "1   rohan     43   kolkata\n",
       "2      pk     45  barailly\n",
       "3   shubh     32  ghazipur"
      ]
     },
     "execution_count": 11,
     "metadata": {},
     "output_type": "execute_result"
    }
   ],
   "source": [
    "pk"
   ]
  },
  {
   "cell_type": "code",
   "execution_count": 12,
   "id": "66bcedd8",
   "metadata": {},
   "outputs": [
    {
     "data": {
      "text/plain": [
       "0    90\n",
       "1    43\n",
       "2    45\n",
       "3    32\n",
       "Name: marks, dtype: int64"
      ]
     },
     "execution_count": 12,
     "metadata": {},
     "output_type": "execute_result"
    }
   ],
   "source": [
    "pk['marks']"
   ]
  },
  {
   "cell_type": "code",
   "execution_count": 13,
   "id": "93b60db1",
   "metadata": {},
   "outputs": [
    {
     "name": "stderr",
     "output_type": "stream",
     "text": [
      "C:\\Users\\pradkumar\\AppData\\Local\\Temp\\ipykernel_16292\\2216190248.py:1: SettingWithCopyWarning: \n",
      "A value is trying to be set on a copy of a slice from a DataFrame\n",
      "\n",
      "See the caveats in the documentation: https://pandas.pydata.org/pandas-docs/stable/user_guide/indexing.html#returning-a-view-versus-a-copy\n",
      "  pk['marks'][2]=50\n"
     ]
    }
   ],
   "source": [
    "pk['marks'][2]=50"
   ]
  },
  {
   "cell_type": "code",
   "execution_count": 14,
   "id": "de0d8f85",
   "metadata": {},
   "outputs": [
    {
     "data": {
      "text/plain": [
       "0    90\n",
       "1    43\n",
       "2    50\n",
       "3    32\n",
       "Name: marks, dtype: int64"
      ]
     },
     "execution_count": 14,
     "metadata": {},
     "output_type": "execute_result"
    }
   ],
   "source": [
    "pk['marks']"
   ]
  },
  {
   "cell_type": "code",
   "execution_count": 15,
   "id": "d082700a",
   "metadata": {},
   "outputs": [],
   "source": [
    "pk.to_csv('pk1.csv')"
   ]
  },
  {
   "cell_type": "code",
   "execution_count": 16,
   "id": "8a7b1e32",
   "metadata": {},
   "outputs": [],
   "source": [
    "pk.index = ['first', 'second', 'third', 'fourth']"
   ]
  },
  {
   "cell_type": "code",
   "execution_count": 17,
   "id": "e476eef5",
   "metadata": {},
   "outputs": [
    {
     "data": {
      "text/html": [
       "<div>\n",
       "<style scoped>\n",
       "    .dataframe tbody tr th:only-of-type {\n",
       "        vertical-align: middle;\n",
       "    }\n",
       "\n",
       "    .dataframe tbody tr th {\n",
       "        vertical-align: top;\n",
       "    }\n",
       "\n",
       "    .dataframe thead th {\n",
       "        text-align: right;\n",
       "    }\n",
       "</style>\n",
       "<table border=\"1\" class=\"dataframe\">\n",
       "  <thead>\n",
       "    <tr style=\"text-align: right;\">\n",
       "      <th></th>\n",
       "      <th>name</th>\n",
       "      <th>marks</th>\n",
       "      <th>city</th>\n",
       "    </tr>\n",
       "  </thead>\n",
       "  <tbody>\n",
       "    <tr>\n",
       "      <th>first</th>\n",
       "      <td>harry</td>\n",
       "      <td>90</td>\n",
       "      <td>rampur</td>\n",
       "    </tr>\n",
       "    <tr>\n",
       "      <th>second</th>\n",
       "      <td>rohan</td>\n",
       "      <td>43</td>\n",
       "      <td>kolkata</td>\n",
       "    </tr>\n",
       "    <tr>\n",
       "      <th>third</th>\n",
       "      <td>pk</td>\n",
       "      <td>50</td>\n",
       "      <td>barailly</td>\n",
       "    </tr>\n",
       "    <tr>\n",
       "      <th>fourth</th>\n",
       "      <td>shubh</td>\n",
       "      <td>32</td>\n",
       "      <td>ghazipur</td>\n",
       "    </tr>\n",
       "  </tbody>\n",
       "</table>\n",
       "</div>"
      ],
      "text/plain": [
       "          name  marks      city\n",
       "first    harry     90    rampur\n",
       "second   rohan     43   kolkata\n",
       "third       pk     50  barailly\n",
       "fourth   shubh     32  ghazipur"
      ]
     },
     "execution_count": 17,
     "metadata": {},
     "output_type": "execute_result"
    }
   ],
   "source": [
    "pk"
   ]
  },
  {
   "cell_type": "code",
   "execution_count": 18,
   "id": "6cbb6049",
   "metadata": {},
   "outputs": [],
   "source": [
    "ser = pd.Series(np.random.rand(34))"
   ]
  },
  {
   "cell_type": "code",
   "execution_count": 19,
   "id": "3aee70d2",
   "metadata": {},
   "outputs": [
    {
     "data": {
      "text/plain": [
       "0     0.485708\n",
       "1     0.878325\n",
       "2     0.031710\n",
       "3     0.330952\n",
       "4     0.722091\n",
       "5     0.401338\n",
       "6     0.078409\n",
       "7     0.377853\n",
       "8     0.654797\n",
       "9     0.113506\n",
       "10    0.662646\n",
       "11    0.818352\n",
       "12    0.410704\n",
       "13    0.761645\n",
       "14    0.068654\n",
       "15    0.505319\n",
       "16    0.372259\n",
       "17    0.471390\n",
       "18    0.144710\n",
       "19    0.286122\n",
       "20    0.418407\n",
       "21    0.247399\n",
       "22    0.819528\n",
       "23    0.731678\n",
       "24    0.871858\n",
       "25    0.761933\n",
       "26    0.655081\n",
       "27    0.558340\n",
       "28    0.677003\n",
       "29    0.406837\n",
       "30    0.681052\n",
       "31    0.161299\n",
       "32    0.093327\n",
       "33    0.015168\n",
       "dtype: float64"
      ]
     },
     "execution_count": 19,
     "metadata": {},
     "output_type": "execute_result"
    }
   ],
   "source": [
    "ser"
   ]
  },
  {
   "cell_type": "code",
   "execution_count": 20,
   "id": "f2b3e5e3",
   "metadata": {},
   "outputs": [],
   "source": [
    "newdf = pd.DataFrame(np.random.rand(334, 5), index = np.arange(334))"
   ]
  },
  {
   "cell_type": "code",
   "execution_count": 21,
   "id": "5f51ef45",
   "metadata": {},
   "outputs": [
    {
     "data": {
      "text/html": [
       "<div>\n",
       "<style scoped>\n",
       "    .dataframe tbody tr th:only-of-type {\n",
       "        vertical-align: middle;\n",
       "    }\n",
       "\n",
       "    .dataframe tbody tr th {\n",
       "        vertical-align: top;\n",
       "    }\n",
       "\n",
       "    .dataframe thead th {\n",
       "        text-align: right;\n",
       "    }\n",
       "</style>\n",
       "<table border=\"1\" class=\"dataframe\">\n",
       "  <thead>\n",
       "    <tr style=\"text-align: right;\">\n",
       "      <th></th>\n",
       "      <th>0</th>\n",
       "      <th>1</th>\n",
       "      <th>2</th>\n",
       "      <th>3</th>\n",
       "      <th>4</th>\n",
       "    </tr>\n",
       "  </thead>\n",
       "  <tbody>\n",
       "    <tr>\n",
       "      <th>0</th>\n",
       "      <td>0.455959</td>\n",
       "      <td>0.159466</td>\n",
       "      <td>0.902229</td>\n",
       "      <td>0.086607</td>\n",
       "      <td>0.374149</td>\n",
       "    </tr>\n",
       "    <tr>\n",
       "      <th>1</th>\n",
       "      <td>0.088177</td>\n",
       "      <td>0.801876</td>\n",
       "      <td>0.078959</td>\n",
       "      <td>0.478380</td>\n",
       "      <td>0.528330</td>\n",
       "    </tr>\n",
       "    <tr>\n",
       "      <th>2</th>\n",
       "      <td>0.791673</td>\n",
       "      <td>0.067474</td>\n",
       "      <td>0.083919</td>\n",
       "      <td>0.664318</td>\n",
       "      <td>0.001179</td>\n",
       "    </tr>\n",
       "    <tr>\n",
       "      <th>3</th>\n",
       "      <td>0.711062</td>\n",
       "      <td>0.614882</td>\n",
       "      <td>0.123287</td>\n",
       "      <td>0.672720</td>\n",
       "      <td>0.786141</td>\n",
       "    </tr>\n",
       "    <tr>\n",
       "      <th>4</th>\n",
       "      <td>0.873156</td>\n",
       "      <td>0.266614</td>\n",
       "      <td>0.389797</td>\n",
       "      <td>0.625046</td>\n",
       "      <td>0.008850</td>\n",
       "    </tr>\n",
       "    <tr>\n",
       "      <th>...</th>\n",
       "      <td>...</td>\n",
       "      <td>...</td>\n",
       "      <td>...</td>\n",
       "      <td>...</td>\n",
       "      <td>...</td>\n",
       "    </tr>\n",
       "    <tr>\n",
       "      <th>329</th>\n",
       "      <td>0.993939</td>\n",
       "      <td>0.748476</td>\n",
       "      <td>0.917190</td>\n",
       "      <td>0.117404</td>\n",
       "      <td>0.655313</td>\n",
       "    </tr>\n",
       "    <tr>\n",
       "      <th>330</th>\n",
       "      <td>0.801999</td>\n",
       "      <td>0.400027</td>\n",
       "      <td>0.781788</td>\n",
       "      <td>0.198696</td>\n",
       "      <td>0.955068</td>\n",
       "    </tr>\n",
       "    <tr>\n",
       "      <th>331</th>\n",
       "      <td>0.379224</td>\n",
       "      <td>0.372710</td>\n",
       "      <td>0.543880</td>\n",
       "      <td>0.900966</td>\n",
       "      <td>0.135244</td>\n",
       "    </tr>\n",
       "    <tr>\n",
       "      <th>332</th>\n",
       "      <td>0.024035</td>\n",
       "      <td>0.500453</td>\n",
       "      <td>0.208164</td>\n",
       "      <td>0.029468</td>\n",
       "      <td>0.356039</td>\n",
       "    </tr>\n",
       "    <tr>\n",
       "      <th>333</th>\n",
       "      <td>0.703886</td>\n",
       "      <td>0.718055</td>\n",
       "      <td>0.949528</td>\n",
       "      <td>0.831210</td>\n",
       "      <td>0.558856</td>\n",
       "    </tr>\n",
       "  </tbody>\n",
       "</table>\n",
       "<p>334 rows × 5 columns</p>\n",
       "</div>"
      ],
      "text/plain": [
       "            0         1         2         3         4\n",
       "0    0.455959  0.159466  0.902229  0.086607  0.374149\n",
       "1    0.088177  0.801876  0.078959  0.478380  0.528330\n",
       "2    0.791673  0.067474  0.083919  0.664318  0.001179\n",
       "3    0.711062  0.614882  0.123287  0.672720  0.786141\n",
       "4    0.873156  0.266614  0.389797  0.625046  0.008850\n",
       "..        ...       ...       ...       ...       ...\n",
       "329  0.993939  0.748476  0.917190  0.117404  0.655313\n",
       "330  0.801999  0.400027  0.781788  0.198696  0.955068\n",
       "331  0.379224  0.372710  0.543880  0.900966  0.135244\n",
       "332  0.024035  0.500453  0.208164  0.029468  0.356039\n",
       "333  0.703886  0.718055  0.949528  0.831210  0.558856\n",
       "\n",
       "[334 rows x 5 columns]"
      ]
     },
     "execution_count": 21,
     "metadata": {},
     "output_type": "execute_result"
    }
   ],
   "source": [
    "newdf"
   ]
  },
  {
   "cell_type": "code",
   "execution_count": 22,
   "id": "e559c05f",
   "metadata": {},
   "outputs": [
    {
     "data": {
      "text/html": [
       "<div>\n",
       "<style scoped>\n",
       "    .dataframe tbody tr th:only-of-type {\n",
       "        vertical-align: middle;\n",
       "    }\n",
       "\n",
       "    .dataframe tbody tr th {\n",
       "        vertical-align: top;\n",
       "    }\n",
       "\n",
       "    .dataframe thead th {\n",
       "        text-align: right;\n",
       "    }\n",
       "</style>\n",
       "<table border=\"1\" class=\"dataframe\">\n",
       "  <thead>\n",
       "    <tr style=\"text-align: right;\">\n",
       "      <th></th>\n",
       "      <th>0</th>\n",
       "      <th>1</th>\n",
       "      <th>2</th>\n",
       "      <th>3</th>\n",
       "      <th>4</th>\n",
       "    </tr>\n",
       "  </thead>\n",
       "  <tbody>\n",
       "    <tr>\n",
       "      <th>0</th>\n",
       "      <td>0.455959</td>\n",
       "      <td>0.159466</td>\n",
       "      <td>0.902229</td>\n",
       "      <td>0.086607</td>\n",
       "      <td>0.374149</td>\n",
       "    </tr>\n",
       "    <tr>\n",
       "      <th>1</th>\n",
       "      <td>0.088177</td>\n",
       "      <td>0.801876</td>\n",
       "      <td>0.078959</td>\n",
       "      <td>0.478380</td>\n",
       "      <td>0.528330</td>\n",
       "    </tr>\n",
       "    <tr>\n",
       "      <th>2</th>\n",
       "      <td>0.791673</td>\n",
       "      <td>0.067474</td>\n",
       "      <td>0.083919</td>\n",
       "      <td>0.664318</td>\n",
       "      <td>0.001179</td>\n",
       "    </tr>\n",
       "    <tr>\n",
       "      <th>3</th>\n",
       "      <td>0.711062</td>\n",
       "      <td>0.614882</td>\n",
       "      <td>0.123287</td>\n",
       "      <td>0.672720</td>\n",
       "      <td>0.786141</td>\n",
       "    </tr>\n",
       "    <tr>\n",
       "      <th>4</th>\n",
       "      <td>0.873156</td>\n",
       "      <td>0.266614</td>\n",
       "      <td>0.389797</td>\n",
       "      <td>0.625046</td>\n",
       "      <td>0.008850</td>\n",
       "    </tr>\n",
       "    <tr>\n",
       "      <th>...</th>\n",
       "      <td>...</td>\n",
       "      <td>...</td>\n",
       "      <td>...</td>\n",
       "      <td>...</td>\n",
       "      <td>...</td>\n",
       "    </tr>\n",
       "    <tr>\n",
       "      <th>95</th>\n",
       "      <td>0.599229</td>\n",
       "      <td>0.773864</td>\n",
       "      <td>0.175353</td>\n",
       "      <td>0.361902</td>\n",
       "      <td>0.969878</td>\n",
       "    </tr>\n",
       "    <tr>\n",
       "      <th>96</th>\n",
       "      <td>0.795905</td>\n",
       "      <td>0.325239</td>\n",
       "      <td>0.248069</td>\n",
       "      <td>0.791432</td>\n",
       "      <td>0.840289</td>\n",
       "    </tr>\n",
       "    <tr>\n",
       "      <th>97</th>\n",
       "      <td>0.241218</td>\n",
       "      <td>0.580911</td>\n",
       "      <td>0.559499</td>\n",
       "      <td>0.356851</td>\n",
       "      <td>0.448090</td>\n",
       "    </tr>\n",
       "    <tr>\n",
       "      <th>98</th>\n",
       "      <td>0.753654</td>\n",
       "      <td>0.966677</td>\n",
       "      <td>0.703177</td>\n",
       "      <td>0.532728</td>\n",
       "      <td>0.022574</td>\n",
       "    </tr>\n",
       "    <tr>\n",
       "      <th>99</th>\n",
       "      <td>0.910578</td>\n",
       "      <td>0.672465</td>\n",
       "      <td>0.427867</td>\n",
       "      <td>0.339522</td>\n",
       "      <td>0.838211</td>\n",
       "    </tr>\n",
       "  </tbody>\n",
       "</table>\n",
       "<p>100 rows × 5 columns</p>\n",
       "</div>"
      ],
      "text/plain": [
       "           0         1         2         3         4\n",
       "0   0.455959  0.159466  0.902229  0.086607  0.374149\n",
       "1   0.088177  0.801876  0.078959  0.478380  0.528330\n",
       "2   0.791673  0.067474  0.083919  0.664318  0.001179\n",
       "3   0.711062  0.614882  0.123287  0.672720  0.786141\n",
       "4   0.873156  0.266614  0.389797  0.625046  0.008850\n",
       "..       ...       ...       ...       ...       ...\n",
       "95  0.599229  0.773864  0.175353  0.361902  0.969878\n",
       "96  0.795905  0.325239  0.248069  0.791432  0.840289\n",
       "97  0.241218  0.580911  0.559499  0.356851  0.448090\n",
       "98  0.753654  0.966677  0.703177  0.532728  0.022574\n",
       "99  0.910578  0.672465  0.427867  0.339522  0.838211\n",
       "\n",
       "[100 rows x 5 columns]"
      ]
     },
     "execution_count": 22,
     "metadata": {},
     "output_type": "execute_result"
    }
   ],
   "source": [
    "newdf.head(100)"
   ]
  },
  {
   "cell_type": "code",
   "execution_count": 23,
   "id": "f00f36da",
   "metadata": {},
   "outputs": [
    {
     "data": {
      "text/plain": [
       "pandas.core.frame.DataFrame"
      ]
     },
     "execution_count": 23,
     "metadata": {},
     "output_type": "execute_result"
    }
   ],
   "source": [
    "type(newdf)"
   ]
  },
  {
   "cell_type": "code",
   "execution_count": 24,
   "id": "d34218a4",
   "metadata": {},
   "outputs": [
    {
     "data": {
      "text/plain": [
       "pandas.core.series.Series"
      ]
     },
     "execution_count": 24,
     "metadata": {},
     "output_type": "execute_result"
    }
   ],
   "source": [
    "type(ser)"
   ]
  },
  {
   "cell_type": "code",
   "execution_count": 25,
   "id": "a4fefae3",
   "metadata": {},
   "outputs": [
    {
     "data": {
      "text/plain": [
       "<bound method NDFrame.describe of             0         1         2         3         4\n",
       "0    0.455959  0.159466  0.902229  0.086607  0.374149\n",
       "1    0.088177  0.801876  0.078959  0.478380  0.528330\n",
       "2    0.791673  0.067474  0.083919  0.664318  0.001179\n",
       "3    0.711062  0.614882  0.123287  0.672720  0.786141\n",
       "4    0.873156  0.266614  0.389797  0.625046  0.008850\n",
       "..        ...       ...       ...       ...       ...\n",
       "329  0.993939  0.748476  0.917190  0.117404  0.655313\n",
       "330  0.801999  0.400027  0.781788  0.198696  0.955068\n",
       "331  0.379224  0.372710  0.543880  0.900966  0.135244\n",
       "332  0.024035  0.500453  0.208164  0.029468  0.356039\n",
       "333  0.703886  0.718055  0.949528  0.831210  0.558856\n",
       "\n",
       "[334 rows x 5 columns]>"
      ]
     },
     "execution_count": 25,
     "metadata": {},
     "output_type": "execute_result"
    }
   ],
   "source": [
    "newdf.describe"
   ]
  },
  {
   "cell_type": "code",
   "execution_count": 26,
   "id": "2c420ff6",
   "metadata": {},
   "outputs": [
    {
     "data": {
      "text/html": [
       "<div>\n",
       "<style scoped>\n",
       "    .dataframe tbody tr th:only-of-type {\n",
       "        vertical-align: middle;\n",
       "    }\n",
       "\n",
       "    .dataframe tbody tr th {\n",
       "        vertical-align: top;\n",
       "    }\n",
       "\n",
       "    .dataframe thead th {\n",
       "        text-align: right;\n",
       "    }\n",
       "</style>\n",
       "<table border=\"1\" class=\"dataframe\">\n",
       "  <thead>\n",
       "    <tr style=\"text-align: right;\">\n",
       "      <th></th>\n",
       "      <th>0</th>\n",
       "      <th>1</th>\n",
       "      <th>2</th>\n",
       "      <th>3</th>\n",
       "      <th>4</th>\n",
       "    </tr>\n",
       "  </thead>\n",
       "  <tbody>\n",
       "    <tr>\n",
       "      <th>count</th>\n",
       "      <td>334.000000</td>\n",
       "      <td>334.000000</td>\n",
       "      <td>334.000000</td>\n",
       "      <td>334.000000</td>\n",
       "      <td>334.000000</td>\n",
       "    </tr>\n",
       "    <tr>\n",
       "      <th>mean</th>\n",
       "      <td>0.513906</td>\n",
       "      <td>0.499588</td>\n",
       "      <td>0.495408</td>\n",
       "      <td>0.488953</td>\n",
       "      <td>0.518322</td>\n",
       "    </tr>\n",
       "    <tr>\n",
       "      <th>std</th>\n",
       "      <td>0.288592</td>\n",
       "      <td>0.280209</td>\n",
       "      <td>0.286006</td>\n",
       "      <td>0.289176</td>\n",
       "      <td>0.289176</td>\n",
       "    </tr>\n",
       "    <tr>\n",
       "      <th>min</th>\n",
       "      <td>0.009150</td>\n",
       "      <td>0.000212</td>\n",
       "      <td>0.003261</td>\n",
       "      <td>0.014462</td>\n",
       "      <td>0.000758</td>\n",
       "    </tr>\n",
       "    <tr>\n",
       "      <th>25%</th>\n",
       "      <td>0.256022</td>\n",
       "      <td>0.267591</td>\n",
       "      <td>0.234235</td>\n",
       "      <td>0.223927</td>\n",
       "      <td>0.280831</td>\n",
       "    </tr>\n",
       "    <tr>\n",
       "      <th>50%</th>\n",
       "      <td>0.524772</td>\n",
       "      <td>0.487510</td>\n",
       "      <td>0.490795</td>\n",
       "      <td>0.473399</td>\n",
       "      <td>0.522244</td>\n",
       "    </tr>\n",
       "    <tr>\n",
       "      <th>75%</th>\n",
       "      <td>0.754526</td>\n",
       "      <td>0.744033</td>\n",
       "      <td>0.718081</td>\n",
       "      <td>0.746377</td>\n",
       "      <td>0.774865</td>\n",
       "    </tr>\n",
       "    <tr>\n",
       "      <th>max</th>\n",
       "      <td>0.997253</td>\n",
       "      <td>0.999950</td>\n",
       "      <td>0.998609</td>\n",
       "      <td>0.998117</td>\n",
       "      <td>0.994780</td>\n",
       "    </tr>\n",
       "  </tbody>\n",
       "</table>\n",
       "</div>"
      ],
      "text/plain": [
       "                0           1           2           3           4\n",
       "count  334.000000  334.000000  334.000000  334.000000  334.000000\n",
       "mean     0.513906    0.499588    0.495408    0.488953    0.518322\n",
       "std      0.288592    0.280209    0.286006    0.289176    0.289176\n",
       "min      0.009150    0.000212    0.003261    0.014462    0.000758\n",
       "25%      0.256022    0.267591    0.234235    0.223927    0.280831\n",
       "50%      0.524772    0.487510    0.490795    0.473399    0.522244\n",
       "75%      0.754526    0.744033    0.718081    0.746377    0.774865\n",
       "max      0.997253    0.999950    0.998609    0.998117    0.994780"
      ]
     },
     "execution_count": 26,
     "metadata": {},
     "output_type": "execute_result"
    }
   ],
   "source": [
    "newdf.describe()"
   ]
  },
  {
   "cell_type": "code",
   "execution_count": null,
   "id": "9f4ee181",
   "metadata": {},
   "outputs": [],
   "source": []
  }
 ],
 "metadata": {
  "kernelspec": {
   "display_name": "Python 3 (ipykernel)",
   "language": "python",
   "name": "python3"
  },
  "language_info": {
   "codemirror_mode": {
    "name": "ipython",
    "version": 3
   },
   "file_extension": ".py",
   "mimetype": "text/x-python",
   "name": "python",
   "nbconvert_exporter": "python",
   "pygments_lexer": "ipython3",
   "version": "3.11.3"
  }
 },
 "nbformat": 4,
 "nbformat_minor": 5
}
